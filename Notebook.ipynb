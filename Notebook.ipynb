{
 "cells": [
  {
   "cell_type": "code",
   "execution_count": 41,
   "metadata": {},
   "outputs": [],
   "source": [
    "# %load src/Graph.py\n",
    "from collections import defaultdict\n",
    "import random\n",
    "import numpy as np\n",
    "\n",
    "\n",
    "class Graph:\n",
    "    def __init__(self):\n",
    "        self.nodes = set()\n",
    "        self.edges = defaultdict(list)\n",
    "        self.distances = {}\n",
    "\n",
    "    def add_node(self, value):\n",
    "        self.nodes.add(value)\n",
    "\n",
    "    def add_nodes(self, list):\n",
    "        for node in list:\n",
    "            self.add_node(node)\n",
    "\n",
    "    def add_edge(self, from_node, to_node, distance):\n",
    "        self.edges[from_node].append(to_node)\n",
    "        self.edges[to_node].append(from_node)\n",
    "        self.distances[(from_node, to_node)] = distance\n",
    "        self.distances[(to_node, from_node)] = distance\n",
    "\n",
    "    def add_edges(self, tuples):\n",
    "        for t in tuples:\n",
    "            self.add_edge(t[0], t[1], t[2])\n",
    "\n",
    "    def remove_edge(self, edge):\n",
    "        if self.distances.get(edge):\n",
    "            self.edges[edge[0]].remove(edge[1])\n",
    "            self.edges[edge[1]].remove(edge[0])\n",
    "            self.distances.pop(edge)\n",
    "\n",
    "    def remove_edges(self, edges):\n",
    "        for edge in edges:\n",
    "            self.remove_edge(edge)\n",
    "\n",
    "    def remove_node(self, node):\n",
    "        for n in self.nodes:\n",
    "            if(node != n):\n",
    "                self.remove_edge((node, n))\n",
    "        self.nodes.remove(node)\n",
    "\n",
    "    def remove_nodes(self, nodes):\n",
    "        for node in nodes:\n",
    "            self.remove_node(node)\n",
    "    \n",
    "    def random_graph(self, num_nodes, prob_axis):\n",
    "        g = Graph()\n",
    "        g.add_nodes(range(num_nodes))\n",
    "        for source in g.nodes:\n",
    "            for target in g.nodes:\n",
    "                if (source != target and random.random() < prob_axis and (not g.distances.get((source, target)))):\n",
    "                    g.add_edge(source, target, random.randint(1, num_nodes))\n",
    "        return g\n",
    "        #self.nodes = g.nodes\n",
    "        #self.edges = g.edges\n",
    "        #self.distances = g.distances\n",
    "    \n",
    "    def adjacency_matrix(self):\n",
    "        length = len(self.nodes)\n",
    "        matrix = np.full((length, length), np.inf)\n",
    "        for source in self.nodes:\n",
    "            for target in self.nodes:\n",
    "                if(self.distances.get((source, target))):\n",
    "                    matrix[source][target] = self.distances.get((source, target))\n",
    "        return matrix\n",
    "\n",
    "    def dijkstra(self, initial):\n",
    "        visited = {initial: 0}\n",
    "        path = {}\n",
    "\n",
    "        nodes = set(self.nodes)\n",
    "\n",
    "        while nodes:\n",
    "            min_node = None\n",
    "            for node in nodes:\n",
    "                if node in visited:\n",
    "                    if min_node is None:\n",
    "                        min_node = node\n",
    "                    elif visited[node] < visited[min_node]:\n",
    "                        min_node = node\n",
    "\n",
    "            if min_node is None:\n",
    "                break\n",
    "\n",
    "            nodes.remove(min_node)\n",
    "            current_weight = visited[min_node]\n",
    "\n",
    "            for edge in self.edges[min_node]:\n",
    "                weight = current_weight + self.distances.get(min_node, edge)\n",
    "                if edge not in visited or weight < visited[edge]:\n",
    "                    visited[edge] = weight\n",
    "                    path[edge] = min_node\n",
    "\n",
    "        return visited, path\n",
    "    \n",
    "    def floyd_warshall(self):\n",
    "        size = len(self.nodes)\n",
    "        distances = self.distances\n",
    "        for k in range(0, size):\n",
    "            for i in range(0, size):\n",
    "                for j in range(0, size):\n",
    "                    distances[(i,j)] = min(distances.get(i,j), distances.get(i,k) + distances.get(k,j))\n",
    "        return distances\n",
    "\n",
    "    \n"
   ]
  },
  {
   "cell_type": "code",
   "execution_count": 46,
   "metadata": {},
   "outputs": [
    {
     "name": "stdout",
     "output_type": "stream",
     "text": [
      "[[inf  1.  4.  2.]\n",
      " [ 1. inf  3.  1.]\n",
      " [ 4.  3. inf  4.]\n",
      " [ 2.  1.  4. inf]]\n"
     ]
    }
   ],
   "source": [
    "import networkx as nx\n",
    "\n",
    "graph = Graph()\n",
    "g = graph.random_graph(4, .5)\n",
    "\n",
    "adj_matrix = g.adjacency_matrix()\n",
    "\n",
    "print(adj_matrix)\n",
    "\n",
    "#graph_plot=nx.from_numpy_matrix(adj_matrix, parallel_edges=False)\n",
    "\n",
    "#nx.draw(graph_plot)"
   ]
  },
  {
   "cell_type": "code",
   "execution_count": 47,
   "metadata": {},
   "outputs": [
    {
     "name": "stdout",
     "output_type": "stream",
     "text": [
      "[[inf  1.  2.  3.]\n",
      " [inf  1.  2.  3.]\n",
      " [inf  1.  2.  3.]\n",
      " [inf  1.  2.  3.]]\n"
     ]
    }
   ],
   "source": [
    "g.distances = g.floyd_warshall()\n",
    "print(g.adjacency_matrix())"
   ]
  },
  {
   "cell_type": "code",
   "execution_count": 21,
   "metadata": {},
   "outputs": [
    {
     "data": {
      "text/plain": [
       "<matplotlib.legend.Legend at 0x7f3b2b6cdf60>"
      ]
     },
     "execution_count": 21,
     "metadata": {},
     "output_type": "execute_result"
    },
    {
     "data": {
      "image/png": "[encoded data removed]",
      "text/plain": [
       "<matplotlib.figure.Figure at 0x7f3b2bcda668>"
      ]
     },
     "metadata": {
      "needs_background": "light"
     },
     "output_type": "display_data"
    }
   ],
   "source": [
    "import time\n",
    "import matplotlib.pyplot as plt\n",
    "\n",
    "prob = .75\n",
    "size = 300\n",
    "dijkstra = []\n",
    "sizes = range(4, size)\n",
    "graph = Graph()\n",
    "\n",
    "for i in sizes:\n",
    "    graph.random_graph(i, prob)\n",
    "    start = time.time()\n",
    "    graph.dijkstra(1)\n",
    "    end = time.time()\n",
    "    dijkstra.append(end - start)\n",
    "\n",
    "# Axis for the tokens\n",
    "x_axis = np.arange(len(sizes))\n",
    "fig = plt.figure()\n",
    "ax = fig.add_subplot(1, 1, 1)\n",
    "\n",
    "ax.set_xlabel('Size of the instance', color='k')\n",
    "ax.set_ylabel('Time taken (ms)', color='k')\n",
    "#ax.grid(linewidth=0.05)\n",
    "ax.plot(x_axis, np.array(dijkstra), '-', color='r', label='Dijkstra')\n",
    "\n",
    "ax.legend(loc='upper left')\n",
    "\n",
    "\n",
    "# Plot\n",
    "\n",
    "#plt.tight_layout()\n",
    "#plt.savefig('comparison.pdf', format='pdf', dpi=300)\n"
   ]
  }
 ],
 "metadata": {
  "kernelspec": {
   "display_name": "Python 3",
   "language": "python",
   "name": "python3"
  },
  "language_info": {
   "codemirror_mode": {
    "name": "ipython",
    "version": 3
   },
   "file_extension": ".py",
   "mimetype": "text/x-python",
   "name": "python",
   "nbconvert_exporter": "python",
   "pygments_lexer": "ipython3",
   "version": "3.6.8"
  }
 },
 "nbformat": 4,
 "nbformat_minor": 2
}
